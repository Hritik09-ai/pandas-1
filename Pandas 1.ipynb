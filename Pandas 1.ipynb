{
 "cells": [
  {
   "cell_type": "code",
   "execution_count": 1,
   "id": "f64a39b4-8eac-44fa-acfe-8d429016d3af",
   "metadata": {},
   "outputs": [],
   "source": [
    "# QUESTION.1 Create a pandas series that contains the following data: 4,6,15,16,23, and 42. Then, print the series. \n",
    "# ANSWER \n",
    "import pandas as pd "
   ]
  },
  {
   "cell_type": "code",
   "execution_count": 2,
   "id": "b93790e6-faf8-47b5-90d6-49a5a3af0296",
   "metadata": {},
   "outputs": [],
   "source": [
    "a = [ 4,6,15,16,23,42 ]"
   ]
  },
  {
   "cell_type": "code",
   "execution_count": 5,
   "id": "8dd8a0f7-143a-49ba-af65-1c8d8e0518e6",
   "metadata": {},
   "outputs": [],
   "source": [
    "data = pd.Series(a)"
   ]
  },
  {
   "cell_type": "code",
   "execution_count": 6,
   "id": "3fb7fc2a-342d-4947-bcca-1baf6579517d",
   "metadata": {},
   "outputs": [
    {
     "name": "stdout",
     "output_type": "stream",
     "text": [
      "0     4\n",
      "1     6\n",
      "2    15\n",
      "3    16\n",
      "4    23\n",
      "5    42\n",
      "dtype: int64\n"
     ]
    }
   ],
   "source": [
    "print(data)"
   ]
  },
  {
   "cell_type": "code",
   "execution_count": null,
   "id": "625cc475-f992-4b0d-a623-5bbb0c6715a9",
   "metadata": {},
   "outputs": [],
   "source": []
  },
  {
   "cell_type": "code",
   "execution_count": 8,
   "id": "bd7ad2f4-d3b6-4f07-8b91-6823b642e484",
   "metadata": {},
   "outputs": [],
   "source": [
    "# QUESTION.2 Create a variable of list type containing 10 elements in it, and apply pandas.Series function on the variable \n",
    "# print it. \n",
    "# ANSWER \n",
    "A1 = [ 1,2,3,4,5,6,7,8,9,10 ]\n",
    "elements = pd.Series(A1)"
   ]
  },
  {
   "cell_type": "code",
   "execution_count": 9,
   "id": "b91fe363-a485-4fc6-a02c-f218fd665f18",
   "metadata": {},
   "outputs": [
    {
     "name": "stdout",
     "output_type": "stream",
     "text": [
      "0     1\n",
      "1     2\n",
      "2     3\n",
      "3     4\n",
      "4     5\n",
      "5     6\n",
      "6     7\n",
      "7     8\n",
      "8     9\n",
      "9    10\n",
      "dtype: int64\n"
     ]
    }
   ],
   "source": [
    "print(elements)"
   ]
  },
  {
   "cell_type": "code",
   "execution_count": null,
   "id": "58766fa5-eb83-4667-90ca-be057087a9ba",
   "metadata": {},
   "outputs": [],
   "source": []
  },
  {
   "cell_type": "code",
   "execution_count": 10,
   "id": "3d075e24-6191-404d-ac0d-72e7487892b7",
   "metadata": {},
   "outputs": [],
   "source": [
    "# QUESTION.3 Create a pandas DataFrame that contains the following data :\n"
   ]
  },
  {
   "cell_type": "code",
   "execution_count": 11,
   "id": "caab78a7-c4ce-4a41-be16-3d7d2d99756d",
   "metadata": {},
   "outputs": [],
   "source": [
    "data = {\n",
    "    'name' : ['Alice','Bob','Claire'],\n",
    "    'Age'  : [25,30,27],\n",
    "    'Gender' : ['Female','Male','Female']    \n",
    "}"
   ]
  },
  {
   "cell_type": "code",
   "execution_count": 20,
   "id": "d2ac25f6-1aa7-4f6b-828d-6fb9bf42d312",
   "metadata": {},
   "outputs": [],
   "source": [
    "df = pd.DataFrame(data)"
   ]
  },
  {
   "cell_type": "code",
   "execution_count": 21,
   "id": "5a45c9ca-c027-4c40-ba48-73c3b4161366",
   "metadata": {},
   "outputs": [
    {
     "data": {
      "text/html": [
       "<div>\n",
       "<style scoped>\n",
       "    .dataframe tbody tr th:only-of-type {\n",
       "        vertical-align: middle;\n",
       "    }\n",
       "\n",
       "    .dataframe tbody tr th {\n",
       "        vertical-align: top;\n",
       "    }\n",
       "\n",
       "    .dataframe thead th {\n",
       "        text-align: right;\n",
       "    }\n",
       "</style>\n",
       "<table border=\"1\" class=\"dataframe\">\n",
       "  <thead>\n",
       "    <tr style=\"text-align: right;\">\n",
       "      <th></th>\n",
       "      <th>name</th>\n",
       "      <th>Age</th>\n",
       "      <th>Gender</th>\n",
       "    </tr>\n",
       "  </thead>\n",
       "  <tbody>\n",
       "    <tr>\n",
       "      <th>0</th>\n",
       "      <td>Alice</td>\n",
       "      <td>25</td>\n",
       "      <td>Female</td>\n",
       "    </tr>\n",
       "    <tr>\n",
       "      <th>1</th>\n",
       "      <td>Bob</td>\n",
       "      <td>30</td>\n",
       "      <td>Male</td>\n",
       "    </tr>\n",
       "    <tr>\n",
       "      <th>2</th>\n",
       "      <td>Claire</td>\n",
       "      <td>27</td>\n",
       "      <td>Female</td>\n",
       "    </tr>\n",
       "  </tbody>\n",
       "</table>\n",
       "</div>"
      ],
      "text/plain": [
       "     name  Age  Gender\n",
       "0   Alice   25  Female\n",
       "1     Bob   30    Male\n",
       "2  Claire   27  Female"
      ]
     },
     "execution_count": 21,
     "metadata": {},
     "output_type": "execute_result"
    }
   ],
   "source": [
    "df"
   ]
  },
  {
   "cell_type": "code",
   "execution_count": null,
   "id": "21239feb-db87-44b3-bb6d-8a5fd58555f6",
   "metadata": {},
   "outputs": [],
   "source": []
  },
  {
   "cell_type": "code",
   "execution_count": 23,
   "id": "f3fe4611-c073-4a92-b98c-1f964d872af9",
   "metadata": {},
   "outputs": [],
   "source": [
    "# QUESTION.4 What is 'DataFrame' in pandas and how is it different from oandas.series? Explain with an example\n",
    "# ANSWER In pandas, a DataFrame is a two dimensional, size mutable, and potential hetrogeneous tabular data structure. It is\n",
    "# essentially a table with rows and columns, where each column, where each column can have different data type.\n",
    "#  On the other hand, pandas Series is a one dimensional labeled array capable of holding data of any data type. You can\n",
    "# of a single column of DataFrame. A DataFrame is made up of one or more series stacked Horizontally.\n",
    "   #  For Example :\n",
    "    "
   ]
  },
  {
   "cell_type": "code",
   "execution_count": 25,
   "id": "4e5e7398-1f8d-4c03-a27b-4abe60ebc466",
   "metadata": {},
   "outputs": [],
   "source": [
    "data1 = {\n",
    "    'name' : ['Alice','Bob','Claire'],\n",
    "    'Age'  : [25,30,27],\n",
    "    'Gender' : ['Female','Male','Female']    \n",
    "}"
   ]
  },
  {
   "cell_type": "code",
   "execution_count": 27,
   "id": "20a63211-61eb-49c3-b6ed-74adfa408f6e",
   "metadata": {},
   "outputs": [],
   "source": [
    "DataFrame = pd.DataFrame(data1)"
   ]
  },
  {
   "cell_type": "code",
   "execution_count": 28,
   "id": "ad45fa37-79d7-4434-9245-f5d525cebe2b",
   "metadata": {},
   "outputs": [
    {
     "data": {
      "text/html": [
       "<div>\n",
       "<style scoped>\n",
       "    .dataframe tbody tr th:only-of-type {\n",
       "        vertical-align: middle;\n",
       "    }\n",
       "\n",
       "    .dataframe tbody tr th {\n",
       "        vertical-align: top;\n",
       "    }\n",
       "\n",
       "    .dataframe thead th {\n",
       "        text-align: right;\n",
       "    }\n",
       "</style>\n",
       "<table border=\"1\" class=\"dataframe\">\n",
       "  <thead>\n",
       "    <tr style=\"text-align: right;\">\n",
       "      <th></th>\n",
       "      <th>name</th>\n",
       "      <th>Age</th>\n",
       "      <th>Gender</th>\n",
       "    </tr>\n",
       "  </thead>\n",
       "  <tbody>\n",
       "    <tr>\n",
       "      <th>0</th>\n",
       "      <td>Alice</td>\n",
       "      <td>25</td>\n",
       "      <td>Female</td>\n",
       "    </tr>\n",
       "    <tr>\n",
       "      <th>1</th>\n",
       "      <td>Bob</td>\n",
       "      <td>30</td>\n",
       "      <td>Male</td>\n",
       "    </tr>\n",
       "    <tr>\n",
       "      <th>2</th>\n",
       "      <td>Claire</td>\n",
       "      <td>27</td>\n",
       "      <td>Female</td>\n",
       "    </tr>\n",
       "  </tbody>\n",
       "</table>\n",
       "</div>"
      ],
      "text/plain": [
       "     name  Age  Gender\n",
       "0   Alice   25  Female\n",
       "1     Bob   30    Male\n",
       "2  Claire   27  Female"
      ]
     },
     "execution_count": 28,
     "metadata": {},
     "output_type": "execute_result"
    }
   ],
   "source": [
    "DataFrame"
   ]
  },
  {
   "cell_type": "code",
   "execution_count": 34,
   "id": "209b969a-5c21-487b-9124-c3b25f651607",
   "metadata": {},
   "outputs": [],
   "source": [
    "series = pd.Series([25,30,22], name = 'Age')"
   ]
  },
  {
   "cell_type": "code",
   "execution_count": 35,
   "id": "075d136b-20b9-49f3-ac26-24bd390e163d",
   "metadata": {},
   "outputs": [
    {
     "data": {
      "text/plain": [
       "0    25\n",
       "1    30\n",
       "2    22\n",
       "Name: Age, dtype: int64"
      ]
     },
     "execution_count": 35,
     "metadata": {},
     "output_type": "execute_result"
    }
   ],
   "source": [
    "series"
   ]
  },
  {
   "cell_type": "code",
   "execution_count": null,
   "id": "0d8f1cd7-3d71-4b7b-8762-9747abf22e7b",
   "metadata": {},
   "outputs": [],
   "source": []
  },
  {
   "cell_type": "code",
   "execution_count": 36,
   "id": "3f1ff2f0-4137-4805-ba9f-690ba732a6b2",
   "metadata": {},
   "outputs": [],
   "source": [
    "# QUESTION.5 What are some common functions you can use to manipulate data in a Pandas DataFrame? Con you give an example\n",
    "# of when you might use one of these function?"
   ]
  },
  {
   "cell_type": "code",
   "execution_count": null,
   "id": "82100107-592c-47b8-aed4-2b892fbad9a0",
   "metadata": {},
   "outputs": [],
   "source": [
    "# Pandas is a popular Python library for data manipulation and analysis, especially when working with tabular data using\n",
    "# DataFrames. There are numerous functions and methods available in Pandas to manipulate data in a DataFrame. Here are some\n",
    "# common functions and examples of when you might use them:\n",
    "\n",
    "# DataFrame.head() and DataFrame.tail()\n",
    "\n",
    "# Use head() to view the first few rows of a DataFrame and tail() to view the last few rows. This is handy for quickly\n",
    "# inspecting your data.\n",
    "# python\n",
    "\n",
    "df.head()  # View the first 5 rows\n",
    "df.tail(10)  # View the last 10 rows\n",
    "DataFrame.shape\n",
    "\n",
    "# Use shape to get the dimensions (rows, columns) of the DataFrame.\n",
    "\n",
    "df.shape  # Returns (rows, columns)\n",
    "DataFrame.describe()\n",
    "\n",
    "# This provides summary statistics of numerical columns in the DataFrame.\n",
    "\n",
    "df.describe()\n",
    "DataFrame.info()\n",
    "\n",
    "# Provides a concise summary of the DataFrame's data types, non-null values, and memory usage.\n",
    "\n",
    "df.info()\n",
    "DataFrame.set_index()\n",
    "\n",
    "# Set one or more columns as the DataFrame's index.\n",
    "\n",
    "df.set_index('column_name', inplace=True)\n",
    "DataFrame.reset_index()\n",
    "\n",
    "# Reset the index of the DataFrame.\n",
    "\n",
    "df.reset_index(inplace=True)\n",
    "DataFrame.filter()\n",
    "\n",
    "# Filter rows or columns by label, regex, or condition.\n",
    "\n",
    "df.filter(like='keyword')  # Filter columns containing 'keyword'\n",
    "df.filter(like='keyword', axis=0)  # Filter rows containing 'keyword'\n",
    "df[df['column_name'] > 50]  # Filter rows based on a condition\n",
    "DataFrame.groupby()\n",
    "\n",
    "# Group the data based on one or more columns.\n",
    "\n",
    "groupby_obj = df.groupby('column_name')\n",
    "DataFrame.pivot_table()\n",
    "\n",
    "# Create a pivot table from the data.\n",
    "\n",
    "pivot_table = df.pivot_table(index='row_column', columns='column_column', values='value_column', aggfunc='mean')\n",
    "DataFrame.sort_values()\n",
    "\n",
    "# Sort the DataFrame by one or more columns.\n",
    "\n",
    "df.sort_values(by='column_name', ascending=False)\n",
    "DataFrame.drop()\n",
    "\n",
    "# Remove rows or columns from the DataFrame.\n",
    "\n",
    "df.drop('column_name', axis=1, inplace=True)  # Remove a column\n",
    "df.drop([1, 2, 3], axis=0, inplace=True)     # Remove rows by index\n",
    "DataFrame.apply()\n",
    "\n",
    "# Apply a function to each element, row, or column in the DataFrame.\n",
    "\n",
    "df['new_column'] = df['existing_column'].apply(lambda x: some_function(x))\n",
    "DataFrame.merge() and DataFrame.join()\n",
    "\n",
    "# Combine DataFrames using specified keys or columns.\n",
    "\n",
    "merged_df = df1.merge(df2, on='common_column')\n",
    "# These are just some of the many functions available in Pandas for data manipulation. The choice of function depends on\n",
    "# your specific data analysis tasks, such as cleaning, filtering, aggregating, or transforming data."
   ]
  },
  {
   "cell_type": "code",
   "execution_count": null,
   "id": "71c8d773-1fb1-4fac-a101-723ccdf037f3",
   "metadata": {},
   "outputs": [],
   "source": []
  },
  {
   "cell_type": "code",
   "execution_count": 39,
   "id": "bb234766-3103-469d-a7da-8a2b32ef6bf8",
   "metadata": {},
   "outputs": [],
   "source": [
    "# QUESTION.6 Which of the following is mutable in nature Serirs, DataFrame, Panel?\n",
    "# ANSWER  A Series is mutable, meaning you can modify its element , add, or remove values after it's created. \n",
    "#  A DataFrame is also mutable. You can modify the data within a DataFrame, add or remove columns and rows, and perform \n",
    "# various operations to change its content. \n",
    "# However, the Panel data structure was deprecated in pandas, starting from version 0.25.0 and it's no longer considered \n",
    "# part of the core library. "
   ]
  },
  {
   "cell_type": "code",
   "execution_count": null,
   "id": "279797ae-15d9-4970-b0f9-a8e44bdd4215",
   "metadata": {},
   "outputs": [],
   "source": []
  },
  {
   "cell_type": "code",
   "execution_count": 40,
   "id": "84bebd76-5d7b-4c96-9060-90178155dc97",
   "metadata": {},
   "outputs": [],
   "source": [
    "# QUESTION.7 Create a DataFrame using multiple series. Explain with an example. \n",
    "# ANSWER \n",
    "name = pd.Series(['alice','bob','clari'])\n",
    "ages = pd.Series([25,33,44])\n"
   ]
  },
  {
   "cell_type": "code",
   "execution_count": 41,
   "id": "1087cc76-b22c-4e7a-8b91-5a547da541e3",
   "metadata": {},
   "outputs": [
    {
     "data": {
      "text/html": [
       "<div>\n",
       "<style scoped>\n",
       "    .dataframe tbody tr th:only-of-type {\n",
       "        vertical-align: middle;\n",
       "    }\n",
       "\n",
       "    .dataframe tbody tr th {\n",
       "        vertical-align: top;\n",
       "    }\n",
       "\n",
       "    .dataframe thead th {\n",
       "        text-align: right;\n",
       "    }\n",
       "</style>\n",
       "<table border=\"1\" class=\"dataframe\">\n",
       "  <thead>\n",
       "    <tr style=\"text-align: right;\">\n",
       "      <th></th>\n",
       "      <th>NAME</th>\n",
       "      <th>AGE</th>\n",
       "    </tr>\n",
       "  </thead>\n",
       "  <tbody>\n",
       "    <tr>\n",
       "      <th>0</th>\n",
       "      <td>alice</td>\n",
       "      <td>25</td>\n",
       "    </tr>\n",
       "    <tr>\n",
       "      <th>1</th>\n",
       "      <td>bob</td>\n",
       "      <td>33</td>\n",
       "    </tr>\n",
       "    <tr>\n",
       "      <th>2</th>\n",
       "      <td>clari</td>\n",
       "      <td>44</td>\n",
       "    </tr>\n",
       "  </tbody>\n",
       "</table>\n",
       "</div>"
      ],
      "text/plain": [
       "    NAME  AGE\n",
       "0  alice   25\n",
       "1    bob   33\n",
       "2  clari   44"
      ]
     },
     "execution_count": 41,
     "metadata": {},
     "output_type": "execute_result"
    }
   ],
   "source": [
    "pd.DataFrame({'NAME':name ,'AGE': ages})"
   ]
  },
  {
   "cell_type": "code",
   "execution_count": null,
   "id": "6efff442-6a53-4139-88ea-9407f1aa3a5e",
   "metadata": {},
   "outputs": [],
   "source": []
  }
 ],
 "metadata": {
  "kernelspec": {
   "display_name": "Python 3 (ipykernel)",
   "language": "python",
   "name": "python3"
  },
  "language_info": {
   "codemirror_mode": {
    "name": "ipython",
    "version": 3
   },
   "file_extension": ".py",
   "mimetype": "text/x-python",
   "name": "python",
   "nbconvert_exporter": "python",
   "pygments_lexer": "ipython3",
   "version": "3.10.8"
  }
 },
 "nbformat": 4,
 "nbformat_minor": 5
}
